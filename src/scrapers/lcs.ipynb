{
 "cells": [
  {
   "cell_type": "code",
   "execution_count": 6,
   "id": "eaec7f1d",
   "metadata": {},
   "outputs": [
    {
     "name": "stdout",
     "output_type": "stream",
     "text": [
      "✅ Scraped 147 Light Cones. Metadata saved to ../data/light_cones.csv\n",
      "🖼️ Images saved as PNG in ../images/lc_icons\n"
     ]
    }
   ],
   "source": [
    "import os\n",
    "import csv\n",
    "import requests\n",
    "from bs4 import BeautifulSoup\n",
    "from urllib.parse import urljoin\n",
    "from io import BytesIO\n",
    "from PIL import Image  # <-- Add this import\n",
    "\n",
    "URL = \"https://www.prydwen.gg/star-rail/light-cones/\"\n",
    "SAVE_DIR = \"../images/lc_icons\"\n",
    "os.makedirs(SAVE_DIR, exist_ok=True)\n",
    "\n",
    "response = requests.get(URL)\n",
    "soup = BeautifulSoup(response.content, \"html.parser\")\n",
    "\n",
    "light_cones = []\n",
    "\n",
    "for cone_div in soup.select(\"div.hsr-cone-data\"):\n",
    "    name = cone_div.select_one(\"h4\").get_text(strip=True)\n",
    "    rarity_tag = cone_div.select_one(\"strong.rarity-hsr\")\n",
    "    rarity = rarity_tag.get_text(strip=True).replace(\"★\", \"\") if rarity_tag else None\n",
    "    path_tag = cone_div.select_one(\"div.hsr-cone-info p:nth-of-type(2) strong\")\n",
    "    path = path_tag.get_text(strip=True) if path_tag else None\n",
    "\n",
    "    img_tag = cone_div.find_previous(\"img\") or cone_div.find_next(\"img\")\n",
    "    img_url = urljoin(URL, img_tag[\"src\"]) if img_tag and img_tag.get(\"src\") else None\n",
    "\n",
    "    img_path = None\n",
    "    if img_url:\n",
    "        # save as PNG instead of WebP\n",
    "        img_name = name.replace(\" \", \"_\").replace(\":\", \"\").replace(\"/\", \"_\") + \".png\"\n",
    "        img_path = os.path.join(SAVE_DIR, img_name)\n",
    "\n",
    "        # download and convert webp to png\n",
    "        img_data = requests.get(img_url)\n",
    "        image = Image.open(BytesIO(img_data.content)).convert(\"RGBA\")  # ensures transparency preserved\n",
    "        image.save(img_path, \"PNG\")\n",
    "\n",
    "    light_cones.append({\n",
    "        \"name\": name,\n",
    "        \"rarity\": rarity,\n",
    "        \"path\": path,\n",
    "        \"path_to_image\": img_path or \"\"\n",
    "    })\n",
    "\n",
    "csv_path = \"../data/light_cones.csv\"\n",
    "with open(csv_path, \"w\", newline=\"\", encoding=\"utf-8\") as csvfile:\n",
    "    writer = csv.DictWriter(csvfile, fieldnames=[\"name\", \"path\", \"rarity\", \"icon_path\"])\n",
    "    writer.writeheader()\n",
    "    for cone in light_cones:\n",
    "        writer.writerow({\n",
    "            \"name\": cone[\"name\"],\n",
    "            \"path\": cone[\"path\"],\n",
    "            \"rarity\": cone[\"rarity\"],\n",
    "            \"icon_path\": cone[\"path_to_image\"]\n",
    "        })\n",
    "print(f\"✅ Scraped {len(light_cones)} Light Cones. Metadata saved to {csv_path}\")\n",
    "print(f\"🖼️ Images saved as PNG in {SAVE_DIR}\")\n"
   ]
  },
  {
   "cell_type": "code",
   "execution_count": null,
   "id": "6c6574f0",
   "metadata": {},
   "outputs": [],
   "source": []
  }
 ],
 "metadata": {
  "kernelspec": {
   "display_name": "Python 3",
   "language": "python",
   "name": "python3"
  },
  "language_info": {
   "codemirror_mode": {
    "name": "ipython",
    "version": 3
   },
   "file_extension": ".py",
   "mimetype": "text/x-python",
   "name": "python",
   "nbconvert_exporter": "python",
   "pygments_lexer": "ipython3",
   "version": "3.13.4"
  }
 },
 "nbformat": 4,
 "nbformat_minor": 5
}
